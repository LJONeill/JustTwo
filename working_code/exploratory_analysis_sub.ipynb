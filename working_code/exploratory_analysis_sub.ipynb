{
 "cells": [
  {
   "cell_type": "markdown",
   "metadata": {},
   "source": [
    "# Exploratory Data Analysis"
   ]
  },
  {
   "cell_type": "code",
   "execution_count": 6,
   "metadata": {},
   "outputs": [],
   "source": [
    "import numpy as np"
   ]
  },
  {
   "cell_type": "code",
   "execution_count": null,
   "metadata": {},
   "outputs": [],
   "source": [
    "class Image:\n",
    "\n",
    "    '''A way of presenting basic information about an individual image from an images dataset\n",
    "    \n",
    "    enitre_dataset: a numpy array of the entire data set with. \n",
    "        each individual data point is an array of grayscale pixels, with the last point in the array being the category\n",
    "        \n",
    "    choice_of_image_index: the index of a chosen image'''\n",
    "\n",
    "    def __init__(self, entire_dataset: np.array, choice_of_image_index: int):\n",
    "        self.image = entire_dataset[choice_of_image_index,:-1]\n",
    "        self.category = entire_dataset[choice_of_image_index,-1]\n",
    "        self.image_shape = (28,28)\n",
    "\n",
    "    def _tell_class(self):\n",
    "        class_here = 'Error'\n",
    "        if self.category == 0:\n",
    "            class_here = '0 T-shirt/top'\n",
    "        elif self.category == 1:\n",
    "            class_here = '1 Trouser'\n",
    "        elif self.category == 2:\n",
    "            class_here = '2 Pullover'\n",
    "        elif self.category == 3:\n",
    "            class_here = '3 Dress'\n",
    "        elif self.category == 4:\n",
    "            class_here = '4 Shirt'\n",
    "\n",
    "        return(f\"Class: {class_here}\")      \n",
    "\n",
    "\n",
    "\n"
   ]
  }
 ],
 "metadata": {
  "kernelspec": {
   "display_name": "base",
   "language": "python",
   "name": "python3"
  },
  "language_info": {
   "codemirror_mode": {
    "name": "ipython",
    "version": 3
   },
   "file_extension": ".py",
   "mimetype": "text/x-python",
   "name": "python",
   "nbconvert_exporter": "python",
   "pygments_lexer": "ipython3",
   "version": "3.12.2"
  }
 },
 "nbformat": 4,
 "nbformat_minor": 2
}
