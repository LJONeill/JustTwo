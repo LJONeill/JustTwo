{
 "cells": [
  {
   "cell_type": "code",
   "execution_count": 22,
   "metadata": {},
   "outputs": [],
   "source": [
    "#FFNN\n",
    "from neural_networks import NeuralNet\n",
    "from activations import *\n",
    "import matplotlib.pyplot as plt\n",
    "\n"
   ]
  },
  {
   "cell_type": "code",
   "execution_count": 23,
   "metadata": {},
   "outputs": [
    {
     "name": "stdout",
     "output_type": "stream",
     "text": [
      "<class 'numpy.ndarray'>\n"
     ]
    }
   ],
   "source": [
    "filepath_of_post_pca = '..\\\\..\\\\post_pca_data'\n",
    "\n",
    "X_train = np.load(filepath_of_post_pca + '\\\\X_train.npy')\n",
    "X_validate = np.load(filepath_of_post_pca + '\\\\X_validate.npy')\n",
    "Y_train = np.load(filepath_of_post_pca + '\\\\Y_train.npy')\n",
    "Y_validate = np.load(filepath_of_post_pca + '\\\\Y_validate.npy')\n",
    "\n",
    "print(type(Y_validate))"
   ]
  },
  {
   "cell_type": "code",
   "execution_count": 24,
   "metadata": {},
   "outputs": [
    {
     "name": "stdout",
     "output_type": "stream",
     "text": [
      "(8000, 9)\n",
      "(8000,)\n"
     ]
    }
   ],
   "source": [
    "print(X_train.shape)\n",
    "print(Y_train.shape)"
   ]
  },
  {
   "cell_type": "code",
   "execution_count": 25,
   "metadata": {},
   "outputs": [],
   "source": [
    "#Class definitions\n",
    "def tell_class(x):\n",
    "    class_here = 'Error'\n",
    "    if x == 0:\n",
    "        class_here = '0 T-shirt/top'\n",
    "    elif x == 1:\n",
    "        class_here = '1 Trouser'\n",
    "    elif x == 2:\n",
    "        class_here = '2 Pullover'\n",
    "    elif x == 3:\n",
    "        class_here = '3 Dress'\n",
    "    elif x == 4:\n",
    "        class_here = '4 Shirt'\n",
    "\n",
    "    return(f\"Class: {class_here}\")"
   ]
  },
  {
   "cell_type": "code",
   "execution_count": 26,
   "metadata": {},
   "outputs": [],
   "source": [
    "def post_pca_seperate_image_class(data_point_number):\n",
    "\n",
    "    \n",
    "    array_of_the_image = X_train[data_point_number]\n",
    "\n",
    "    class_of_the_image = tell_class(Y_train[data_point_number])\n",
    "\n",
    "\n",
    "    return array_of_the_image, class_of_the_image"
   ]
  },
  {
   "cell_type": "code",
   "execution_count": 27,
   "metadata": {},
   "outputs": [
    {
     "ename": "ValueError",
     "evalue": "cannot reshape array of size 9 into shape (28,28)",
     "output_type": "error",
     "traceback": [
      "\u001b[1;31m---------------------------------------------------------------------------\u001b[0m",
      "\u001b[1;31mValueError\u001b[0m                                Traceback (most recent call last)",
      "Cell \u001b[1;32mIn[27], line 13\u001b[0m\n\u001b[0;32m      9\u001b[0m \u001b[38;5;28;01mfor\u001b[39;00m image \u001b[38;5;129;01min\u001b[39;00m image_choices:\n\u001b[0;32m     11\u001b[0m         this_image_info \u001b[38;5;241m=\u001b[39m post_pca_seperate_image_class(image)\n\u001b[1;32m---> 13\u001b[0m         axs[n]\u001b[38;5;241m.\u001b[39mimshow(\u001b[43mthis_image_info\u001b[49m\u001b[43m[\u001b[49m\u001b[38;5;241;43m0\u001b[39;49m\u001b[43m]\u001b[49m\u001b[38;5;241;43m.\u001b[39;49m\u001b[43mreshape\u001b[49m\u001b[43m(\u001b[49m\u001b[43mimage_shape\u001b[49m\u001b[43m)\u001b[49m, cmap\u001b[38;5;241m=\u001b[39m\u001b[38;5;124m'\u001b[39m\u001b[38;5;124mgray\u001b[39m\u001b[38;5;124m'\u001b[39m)\n\u001b[0;32m     14\u001b[0m         axs[n]\u001b[38;5;241m.\u001b[39mset_title(\u001b[38;5;124mf\u001b[39m\u001b[38;5;124m\"\u001b[39m\u001b[38;5;132;01m{\u001b[39;00mthis_image_info[\u001b[38;5;241m1\u001b[39m]\u001b[38;5;132;01m}\u001b[39;00m\u001b[38;5;124m\"\u001b[39m)\n",
      "\u001b[1;31mValueError\u001b[0m: cannot reshape array of size 9 into shape (28,28)"
     ]
    },
    {
     "data": {
      "image/png": "[encoded data removed]",
      "text/plain": [
       "<Figure size 1500x300 with 6 Axes>"
      ]
     },
     "metadata": {},
     "output_type": "display_data"
    }
   ],
   "source": [
    "image_choices = [100, 4511, 200, 300, 444, 500]\n",
    "\n",
    "image_shape = (28, 28)\n",
    "\n",
    "fig, axs = plt.subplots(1, len(image_choices), figsize=(15, 3))\n",
    "\n",
    "n = 0\n",
    "\n",
    "for image in image_choices:\n",
    "\n",
    "        this_image_info = post_pca_seperate_image_class(image)\n",
    "\n",
    "        axs[n].imshow(this_image_info[0].reshape(image_shape), cmap='gray')\n",
    "        axs[n].set_title(f\"{this_image_info[1]}\")"
   ]
  },
  {
   "cell_type": "code",
   "execution_count": 15,
   "metadata": {},
   "outputs": [],
   "source": [
    "#network hyperparameters\n",
    "\n",
    "#-- topology\n",
    "n_features = X_train.shape[1]\n",
    "n_hidden_1 = int(n_features * 0.7) \n",
    "n_hidden_2 = int(n_hidden_1 * 0.5)\n",
    "n_outputs  = 5\n",
    "\n",
    "topology   = [n_features, n_hidden_1, n_hidden_2, n_outputs]\n",
    "\n",
    "#-- learning\n",
    "learning_rate = 0.01\n",
    "momentum = 0.1"
   ]
  },
  {
   "cell_type": "code",
   "execution_count": 17,
   "metadata": {},
   "outputs": [
    {
     "data": {
      "text/plain": [
       "(9, 6, 3, 5)"
      ]
     },
     "execution_count": 17,
     "metadata": {},
     "output_type": "execute_result"
    }
   ],
   "source": [
    "first_attempt_at_FFNN = NeuralNet(\n",
    "    topology=topology,\n",
    "    learning_rate=learning_rate,\n",
    "    momentum=momentum, \n",
    "    init_method='xavier',\n",
    "    hidden_activation_func='sigmoid',\n",
    ")\n",
    "\n",
    "first_attempt_at_FFNN.shape"
   ]
  },
  {
   "cell_type": "code",
   "execution_count": 18,
   "metadata": {},
   "outputs": [
    {
     "data": {
      "text/plain": [
       "101"
      ]
     },
     "execution_count": 18,
     "metadata": {},
     "output_type": "execute_result"
    }
   ],
   "source": [
    "first_attempt_at_FFNN.n_trainable_params"
   ]
  },
  {
   "cell_type": "code",
   "execution_count": 19,
   "metadata": {},
   "outputs": [
    {
     "ename": "TypeError",
     "evalue": "'str' object is not callable",
     "output_type": "error",
     "traceback": [
      "\u001b[1;31m---------------------------------------------------------------------------\u001b[0m",
      "\u001b[1;31mTypeError\u001b[0m                                 Traceback (most recent call last)",
      "Cell \u001b[1;32mIn[19], line 1\u001b[0m\n\u001b[1;32m----> 1\u001b[0m \u001b[43mfirst_attempt_at_FFNN\u001b[49m\u001b[38;5;241;43m.\u001b[39;49m\u001b[43mtrain\u001b[49m\u001b[43m(\u001b[49m\u001b[43mX_train\u001b[49m\u001b[43m,\u001b[49m\u001b[43m \u001b[49m\u001b[43mY_train\u001b[49m\u001b[43m,\u001b[49m\u001b[43m \u001b[49m\u001b[43mepochs\u001b[49m\u001b[43m \u001b[49m\u001b[38;5;241;43m=\u001b[39;49m\u001b[43m \u001b[49m\u001b[38;5;241;43m5\u001b[39;49m\u001b[43m)\u001b[49m\n",
      "File \u001b[1;32mc:\\Users\\luke0\\OneDrive\\Documents\\GitHub\\JustTwo\\working_code\\FFNN\\neural_networks.py:190\u001b[0m, in \u001b[0;36mNeuralNet.train\u001b[1;34m(self, input_set, target_set, epochs, batch_size, error_threshold, error_func, verbose)\u001b[0m\n\u001b[0;32m    187\u001b[0m     inputs \u001b[38;5;241m=\u001b[39m input_set[i:i\u001b[38;5;241m+\u001b[39m\u001b[38;5;241m1\u001b[39m]   \u001b[38;5;66;03m#slicing it this way makes sure that the resulting numpy array maintains all of its dimensions\u001b[39;00m\n\u001b[0;32m    188\u001b[0m     targets \u001b[38;5;241m=\u001b[39m target_set[i:i\u001b[38;5;241m+\u001b[39m\u001b[38;5;241m1\u001b[39m]\n\u001b[1;32m--> 190\u001b[0m     error \u001b[38;5;241m+\u001b[39m\u001b[38;5;241m=\u001b[39m \u001b[38;5;28;43mself\u001b[39;49m\u001b[38;5;241;43m.\u001b[39;49m\u001b[43m_train_helper\u001b[49m\u001b[43m(\u001b[49m\u001b[43minputs\u001b[49m\u001b[43m,\u001b[49m\u001b[43m \u001b[49m\u001b[43mtargets\u001b[49m\u001b[43m,\u001b[49m\u001b[43m \u001b[49m\u001b[43merror_func\u001b[49m\u001b[43m)\u001b[49m\n\u001b[0;32m    192\u001b[0m \u001b[38;5;28;01mif\u001b[39;00m verbose \u001b[38;5;129;01mand\u001b[39;00m (epoch \u001b[38;5;241m%\u001b[39m \u001b[38;5;241m20\u001b[39m \u001b[38;5;241m==\u001b[39m \u001b[38;5;241m0\u001b[39m):\n\u001b[0;32m    193\u001b[0m     \u001b[38;5;28mself\u001b[39m\u001b[38;5;241m.\u001b[39m_print_training_info(epoch, epochs, error, error_threshold)\n",
      "File \u001b[1;32mc:\\Users\\luke0\\OneDrive\\Documents\\GitHub\\JustTwo\\working_code\\FFNN\\neural_networks.py:227\u001b[0m, in \u001b[0;36mNeuralNet._train_helper\u001b[1;34m(self, input_set, target_set, error_func)\u001b[0m\n\u001b[0;32m    226\u001b[0m \u001b[38;5;28;01mdef\u001b[39;00m \u001b[38;5;21m_train_helper\u001b[39m(\u001b[38;5;28mself\u001b[39m, input_set, target_set, error_func):\n\u001b[1;32m--> 227\u001b[0m     nnet_output \u001b[38;5;241m=\u001b[39m \u001b[38;5;28;43mself\u001b[39;49m\u001b[38;5;241;43m.\u001b[39;49m\u001b[43mfeedforward\u001b[49m\u001b[43m(\u001b[49m\u001b[43minput_set\u001b[49m\u001b[43m)\u001b[49m\n\u001b[0;32m    228\u001b[0m     error       \u001b[38;5;241m=\u001b[39m error_func(target_set, nnet_output)\n\u001b[0;32m    230\u001b[0m     \u001b[38;5;28mself\u001b[39m\u001b[38;5;241m.\u001b[39mbackprop(target\u001b[38;5;241m=\u001b[39mtarget_set, output\u001b[38;5;241m=\u001b[39mnnet_output, error_func\u001b[38;5;241m=\u001b[39merror_func,)\n",
      "File \u001b[1;32mc:\\Users\\luke0\\OneDrive\\Documents\\GitHub\\JustTwo\\working_code\\FFNN\\neural_networks.py:111\u001b[0m, in \u001b[0;36mNeuralNet.feedforward\u001b[1;34m(self, input_vector)\u001b[0m\n\u001b[0;32m    109\u001b[0m         out_vector \u001b[38;5;241m=\u001b[39m \u001b[38;5;28mself\u001b[39m\u001b[38;5;241m.\u001b[39moutput_activation(I)  \u001b[38;5;66;03m#output layer\u001b[39;00m\n\u001b[0;32m    110\u001b[0m     \u001b[38;5;28;01melse\u001b[39;00m:\n\u001b[1;32m--> 111\u001b[0m         I          \u001b[38;5;241m=\u001b[39m \u001b[38;5;28;43mself\u001b[39;49m\u001b[38;5;241;43m.\u001b[39;49m\u001b[43mhidden_activation\u001b[49m\u001b[43m(\u001b[49m\u001b[43mI\u001b[49m\u001b[43m)\u001b[49m  \u001b[38;5;66;03m#hidden layers\u001b[39;00m\n\u001b[0;32m    113\u001b[0m \u001b[38;5;28;01mreturn\u001b[39;00m out_vector\n",
      "\u001b[1;31mTypeError\u001b[0m: 'str' object is not callable"
     ]
    }
   ],
   "source": [
    "first_attempt_at_FFNN.train(X_train, Y_train, epochs = 5)"
   ]
  }
 ],
 "metadata": {
  "kernelspec": {
   "display_name": "base",
   "language": "python",
   "name": "python3"
  },
  "language_info": {
   "codemirror_mode": {
    "name": "ipython",
    "version": 3
   },
   "file_extension": ".py",
   "mimetype": "text/x-python",
   "name": "python",
   "nbconvert_exporter": "python",
   "pygments_lexer": "ipython3",
   "version": "3.12.2"
  }
 },
 "nbformat": 4,
 "nbformat_minor": 2
}
