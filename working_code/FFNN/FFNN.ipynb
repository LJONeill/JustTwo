{
 "cells": [
  {
   "cell_type": "code",
   "execution_count": null,
   "metadata": {},
   "outputs": [],
   "source": [
    "#FFNN\n",
    "import numpy as np\n",
    "import matplotlib.pyplot as plt\n",
    "\n",
    "from neural_networks import NeuralNet\n",
    "from activations import *\n",
    "\n",
    "from data_to_image_temp_copy import Image\n"
   ]
  },
  {
   "cell_type": "code",
   "execution_count": null,
   "metadata": {},
   "outputs": [],
   "source": [
    "test_data_filepath = '..\\\\..\\\\fashion_test.npy'\n",
    "train_data_filepath = '..\\\\..\\\\fashion_train.npy'\n",
    "fashion_train = np.load(train_data_filepath)\n",
    "#fashion_test = np.load(test_data_filepath)"
   ]
  },
  {
   "cell_type": "code",
   "execution_count": null,
   "metadata": {},
   "outputs": [],
   "source": [
    "image_choices = [100, 4511, 200, 300, 444, 500]\n",
    "\n",
    "image_shape = (28, 28)\n",
    "\n",
    "fig, axs = plt.subplots(1, len(image_choices), figsize=(15, 3))\n",
    "\n",
    "n = 0\n",
    "\n",
    "for index_choice in image_choices:\n",
    "        \n",
    "    this_image = Image(fashion_train, index_choice)\n",
    "\n",
    "    axs[n].imshow(this_image.image.reshape(image_shape), cmap='gray')\n",
    "    axs[n].set_title(f\"{this_image._tell_class()}\")\n",
    "\n",
    "    n +=1"
   ]
  },
  {
   "cell_type": "code",
   "execution_count": null,
   "metadata": {},
   "outputs": [],
   "source": [
    "X_train = np.load('..\\\\..\\\\post_pca_data\\\\X_train_initial.npy')\n",
    "X_validate = np.load('..\\\\..\\\\post_pca_data\\\\X_validate_initial.npy')\n",
    "Y_train = np.load('..\\\\..\\\\post_pca_data\\\\Y_train_initial.npy')\n",
    "Y_validate = np.load('..\\\\..\\\\post_pca_data\\\\Y_validate_initial.npy')"
   ]
  },
  {
   "cell_type": "code",
   "execution_count": null,
   "metadata": {},
   "outputs": [],
   "source": [
    "from sklearn.preprocessing import OneHotEncoder\n",
    "\n",
    "encoder = OneHotEncoder(handle_unknown='ignore')\n",
    "encoder.fit(Y_train.reshape(-1, 1))\n",
    "\n",
    "encoded_targets = encoder.transform(Y_train.reshape(-1,1)).toarray()\n",
    "encoded_targets"
   ]
  },
  {
   "cell_type": "code",
   "execution_count": null,
   "metadata": {},
   "outputs": [],
   "source": [
    "from sklearn.preprocessing import MinMaxScaler\n",
    "scaler = MinMaxScaler(feature_range=(-1,1))\n",
    "scaled_data = scaler.fit_transform(X_train)\n",
    "\n",
    "encoded_targets = scaler.fit_transform(encoded_targets)"
   ]
  },
  {
   "cell_type": "code",
   "execution_count": null,
   "metadata": {},
   "outputs": [],
   "source": [
    "#network hyperparameters\n",
    "\n",
    "#-- topology\n",
    "n_features = X_train.shape[1]\n",
    "n_hidden_1 = int(n_features * 0.7) \n",
    "n_hidden_2 = int(n_hidden_1 * 0.5)\n",
    "n_outputs  = 5\n",
    "\n",
    "topology   = [n_features, n_hidden_1, n_hidden_2, n_outputs]\n",
    "\n",
    "#-- learning\n",
    "learning_rate = 0.01\n",
    "momentum = 0.1"
   ]
  },
  {
   "cell_type": "code",
   "execution_count": null,
   "metadata": {},
   "outputs": [],
   "source": [
    "first_attempt_at_FFNN = NeuralNet(\n",
    "    topology=topology,\n",
    "    learning_rate=learning_rate,\n",
    "    momentum=momentum, \n",
    "    init_method='xavier',\n",
    "    hidden_activation_func=relu,\n",
    "    output_activation_func=softmax\n",
    ")\n",
    "\n",
    "first_attempt_at_FFNN.shape"
   ]
  },
  {
   "cell_type": "code",
   "execution_count": null,
   "metadata": {},
   "outputs": [],
   "source": [
    "first_attempt_at_FFNN.n_trainable_params"
   ]
  },
  {
   "cell_type": "code",
   "execution_count": null,
   "metadata": {},
   "outputs": [],
   "source": [
    "X_train"
   ]
  },
  {
   "cell_type": "code",
   "execution_count": null,
   "metadata": {},
   "outputs": [],
   "source": [
    "Y_train.shape"
   ]
  },
  {
   "cell_type": "code",
   "execution_count": null,
   "metadata": {},
   "outputs": [],
   "source": [
    "encoded_targets"
   ]
  },
  {
   "cell_type": "code",
   "execution_count": null,
   "metadata": {},
   "outputs": [],
   "source": [
    "first_attempt_at_FFNN.train(X_train, Y_train, epochs= 5)"
   ]
  },
  {
   "cell_type": "code",
   "execution_count": 42,
   "metadata": {},
   "outputs": [
    {
     "ename": "TypeError",
     "evalue": "only integer scalar arrays can be converted to a scalar index",
     "output_type": "error",
     "traceback": [
      "\u001b[1;31m---------------------------------------------------------------------------\u001b[0m",
      "\u001b[1;31mTypeError\u001b[0m                                 Traceback (most recent call last)",
      "Cell \u001b[1;32mIn[42], line 1\u001b[0m\n\u001b[1;32m----> 1\u001b[0m \u001b[43mfirst_attempt_at_FFNN\u001b[49m\u001b[38;5;241;43m.\u001b[39;49m\u001b[43mtrain\u001b[49m\u001b[43m(\u001b[49m\u001b[43mX_train\u001b[49m\u001b[43m,\u001b[49m\u001b[43m \u001b[49m\u001b[43mY_train\u001b[49m\u001b[43m,\u001b[49m\u001b[43m \u001b[49m\u001b[43mencoded_targets\u001b[49m\u001b[43m)\u001b[49m\n",
      "File \u001b[1;32mc:\\Users\\luke0\\OneDrive\\Documents\\GitHub\\JustTwo\\working_code\\FFNN\\neural_networks.py:183\u001b[0m, in \u001b[0;36mNeuralNet.train\u001b[1;34m(self, input_set, target_set, epochs, batch_size, error_threshold, error_func, verbose)\u001b[0m\n\u001b[0;32m    179\u001b[0m \u001b[38;5;28;01mdef\u001b[39;00m \u001b[38;5;21mtrain\u001b[39m(\u001b[38;5;28mself\u001b[39m, input_set, target_set, epochs\u001b[38;5;241m=\u001b[39m\u001b[38;5;241m1000\u001b[39m, batch_size\u001b[38;5;241m=\u001b[39m\u001b[38;5;241m0\u001b[39m, error_threshold\u001b[38;5;241m=\u001b[39m\u001b[38;5;241m1E-10\u001b[39m, error_func\u001b[38;5;241m=\u001b[39mmean_squared_error, verbose\u001b[38;5;241m=\u001b[39m\u001b[38;5;28;01mTrue\u001b[39;00m):\n\u001b[0;32m    181\u001b[0m     \u001b[38;5;28;01mif\u001b[39;00m batch_size \u001b[38;5;241m==\u001b[39m \u001b[38;5;241m0\u001b[39m:     \u001b[38;5;66;03m#online training (one sample at a time)\u001b[39;00m\n\u001b[1;32m--> 183\u001b[0m         \u001b[38;5;28;01mfor\u001b[39;00m epoch \u001b[38;5;129;01min\u001b[39;00m \u001b[38;5;28;43mrange\u001b[39;49m\u001b[43m(\u001b[49m\u001b[43mepochs\u001b[49m\u001b[43m)\u001b[49m:\n\u001b[0;32m    184\u001b[0m             error \u001b[38;5;241m=\u001b[39m \u001b[38;5;241m0\u001b[39m\n\u001b[0;32m    186\u001b[0m             \u001b[38;5;28;01mfor\u001b[39;00m i \u001b[38;5;129;01min\u001b[39;00m \u001b[38;5;28mrange\u001b[39m(\u001b[38;5;28mlen\u001b[39m(input_set)):\n",
      "\u001b[1;31mTypeError\u001b[0m: only integer scalar arrays can be converted to a scalar index"
     ]
    }
   ],
   "source": [
    "first_attempt_at_FFNN.train(X_train, Y_train, encoded_targets)"
   ]
  }
 ],
 "metadata": {
  "kernelspec": {
   "display_name": "base",
   "language": "python",
   "name": "python3"
  },
  "language_info": {
   "codemirror_mode": {
    "name": "ipython",
    "version": 3
   },
   "file_extension": ".py",
   "mimetype": "text/x-python",
   "name": "python",
   "nbconvert_exporter": "python",
   "pygments_lexer": "ipython3",
   "version": "3.12.2"
  }
 },
 "nbformat": 4,
 "nbformat_minor": 2
}
