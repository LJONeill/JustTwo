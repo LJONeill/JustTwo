{
 "cells": [
  {
   "cell_type": "code",
   "execution_count": 1,
   "metadata": {},
   "outputs": [],
   "source": [
    "import numpy as np\n",
    "\n",
    "from DT_Implement_pre_testing import DecisionTree"
   ]
  },
  {
   "cell_type": "markdown",
   "metadata": {},
   "source": [
    "# Read back in our post PCA Transformed Data from mother_file_o"
   ]
  },
  {
   "cell_type": "code",
   "execution_count": 2,
   "metadata": {},
   "outputs": [],
   "source": [
    "X_train = np.load('..\\\\post_pca_data\\\\X_train.npy')\n",
    "X_validate = np.load('..\\\\post_pca_data\\\\X_validate.npy')\n",
    "Y_train = np.load('..\\\\post_pca_data\\\\Y_train.npy')\n",
    "Y_validate = np.load('..\\\\post_pca_data\\\\Y_validate.npy')"
   ]
  },
  {
   "cell_type": "markdown",
   "metadata": {},
   "source": [
    "# Initialise and train our Decision Tree"
   ]
  },
  {
   "cell_type": "code",
   "execution_count": 3,
   "metadata": {},
   "outputs": [],
   "source": [
    "first_test_tree = DecisionTree(max_depth=10, min_samples_leaf=3, min_information_gain= 0.01, numb_of_features_splitting='sqrt')\n",
    "first_test_tree.train(X_train, Y_train)"
   ]
  },
  {
   "cell_type": "markdown",
   "metadata": {},
   "source": [
    "## Get some predictions for the validation data"
   ]
  },
  {
   "cell_type": "code",
   "execution_count": 4,
   "metadata": {},
   "outputs": [
    {
     "name": "stdout",
     "output_type": "stream",
     "text": [
      "Validate size\n",
      "2000\n",
      "Correct prediction count\n",
      "1490\n",
      "Correct prediction ratio\n",
      "0.745\n"
     ]
    }
   ],
   "source": [
    "validation_predictions = first_test_tree.predict(X_validate)\n",
    "\n",
    "print('Validate size')\n",
    "print(len(Y_validate))\n",
    "\n",
    "print('Correct prediction count')\n",
    "print(sum(validation_predictions == Y_validate))\n",
    "\n",
    "print('Correct prediction ratio')\n",
    "print(sum(validation_predictions == Y_validate)/len(Y_validate))"
   ]
  },
  {
   "cell_type": "markdown",
   "metadata": {},
   "source": [
    "# Let's get some better tests for the tree here"
   ]
  },
  {
   "cell_type": "code",
   "execution_count": 5,
   "metadata": {},
   "outputs": [],
   "source": [
    "#Test the tree"
   ]
  },
  {
   "cell_type": "markdown",
   "metadata": {},
   "source": [
    "#### Leaving out the parameter choosing code"
   ]
  },
  {
   "cell_type": "markdown",
   "metadata": {},
   "source": [
    "# M2: FFNN (to be imported once created)"
   ]
  }
 ],
 "metadata": {
  "kernelspec": {
   "display_name": "base",
   "language": "python",
   "name": "python3"
  },
  "language_info": {
   "codemirror_mode": {
    "name": "ipython",
    "version": 3
   },
   "file_extension": ".py",
   "mimetype": "text/x-python",
   "name": "python",
   "nbconvert_exporter": "python",
   "pygments_lexer": "ipython3",
   "version": "3.12.2"
  }
 },
 "nbformat": 4,
 "nbformat_minor": 2
}
